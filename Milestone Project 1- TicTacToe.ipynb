{
 "cells": [
  {
   "cell_type": "markdown",
   "metadata": {},
   "source": [
    "# Milestone Project 1: Walk-through Steps Workbook\n",
    "\n",
    "Below is a set of steps for you to follow to try to create the Tic Tac Toe Milestone Project game!"
   ]
  },
  {
   "cell_type": "code",
   "execution_count": 25,
   "metadata": {
    "collapsed": true
   },
   "outputs": [],
   "source": [
    "# For using the same code in either Python 2 or 3\n",
    "from __future__ import print_function \n",
    "\n",
    "## Note: Python 2 users, use raw_input() to get player input. Python 3 users, use input()"
   ]
  },
  {
   "cell_type": "markdown",
   "metadata": {},
   "source": [
    "**Step 1: Write a function that can print out a board. Set up your board as a list, where each index 1-9 corresponds with a number on a number pad, so you get a 3 by 3 board representation.**"
   ]
  },
  {
   "cell_type": "code",
   "execution_count": 26,
   "metadata": {
    "collapsed": false
   },
   "outputs": [
    {
     "name": "stdout",
     "output_type": "stream",
     "text": [
      "_______________________________________\n",
      "| 1          | 2         | 3          |\n",
      "|            |           |            |\n",
      " ______________________________________\n",
      "| 4          | 5         | 6          |\n",
      "|            |           |            |\n",
      " ______________________________________\n",
      "| 7          | 8         | 9          |\n",
      "|            |           |            |\n",
      " ______________________________________\n"
     ]
    }
   ],
   "source": [
    "from IPython.display import clear_output\n",
    "def display_board(board):\n",
    "    clear_output()\n",
    "    print(\"_______________________________________\")\n",
    "    print(\"| 1          | 2         | 3          |\")\n",
    "    print(\"|     \",board[1],\"    |     \",board[2],\"   |     \",board[3],\"    |\")\n",
    "    print(\" ______________________________________\")\n",
    "    print(\"| 4          | 5         | 6          |\")\n",
    "    print(\"|     \",board[4],\"    |     \",board[5],\"   |     \",board[6],\"    |\")\n",
    "    print(\" ______________________________________\")\n",
    "    print(\"| 7          | 8         | 9          |\")\n",
    "    print(\"|     \",board[7],\"    |     \",board[8],\"   |     \",board[9],\"    |\")\n",
    "    print(\" ______________________________________\")\n",
    "    pass\n",
    "\n",
    "board = [' ']*10\n",
    "display_board(board)"
   ]
  },
  {
   "cell_type": "markdown",
   "metadata": {},
   "source": [
    "**Step 2: Write a function that can take in a player input and assign their marker as 'X' or 'O'. Think about using *while* loops to continually ask until you get a correct answer.**"
   ]
  },
  {
   "cell_type": "code",
   "execution_count": 27,
   "metadata": {
    "collapsed": true
   },
   "outputs": [],
   "source": [
    "def player_input():\n",
    "    \n",
    "    pass"
   ]
  },
  {
   "cell_type": "markdown",
   "metadata": {},
   "source": [
    "**Step 3: Write a function that takes, in the board list object, a marker ('X' or 'O'), and a desired position (number 1-9) and assigns it to the board.**"
   ]
  },
  {
   "cell_type": "code",
   "execution_count": 28,
   "metadata": {
    "collapsed": true
   },
   "outputs": [],
   "source": [
    "def place_marker(board, marker, position):\n",
    "    if (board[position] == ' ') or 0 < position < 10:\n",
    "        board[position] = marker\n",
    "        return board, True\n",
    "    else:\n",
    "        print(\"Invalid position\")\n",
    "        return board, False"
   ]
  },
  {
   "cell_type": "markdown",
   "metadata": {},
   "source": [
    "**Step 4: Write a function that takes in a board and a mark (X or O) and then checks to see if that mark has won. **"
   ]
  },
  {
   "cell_type": "code",
   "execution_count": 39,
   "metadata": {
    "collapsed": false
   },
   "outputs": [],
   "source": [
    "def win_check(board,mark):\n",
    "    return (board[1] == board[2] == board[3] == mark ) or \\\n",
    "        (board[4] == board[5] == board[6] == mark) or \\\n",
    "    (board[7] == board[8] == board[9] == mark) or \\\n",
    "    (board[1] == board[4] == board[7] == mark) or \\\n",
    "    (board[2] == board[5] == board[7] == mark) or \\\n",
    "    (board[3] == board[9] == board[6] == mark) or \\\n",
    "    (board[1] == board[5] == board[9] == mark) or board[3] == board[5] == board[7] == mark"
   ]
  },
  {
   "cell_type": "markdown",
   "metadata": {},
   "source": [
    "**Step 5: Write a function that uses the random module to randomly decide which player goes first. You may want to lookup random.randint() Return a string of which player went first.**"
   ]
  },
  {
   "cell_type": "code",
   "execution_count": 40,
   "metadata": {
    "collapsed": true
   },
   "outputs": [],
   "source": [
    "import random\n",
    "def choose_first():\n",
    "    pass"
   ]
  },
  {
   "cell_type": "markdown",
   "metadata": {},
   "source": [
    "**Step 6: Write a function that returns a boolean indicating whether a space on the board is freely available.**"
   ]
  },
  {
   "cell_type": "code",
   "execution_count": 41,
   "metadata": {
    "collapsed": true
   },
   "outputs": [],
   "source": [
    "def space_check(board, position):\n",
    "    return board[position] == ' '"
   ]
  },
  {
   "cell_type": "markdown",
   "metadata": {},
   "source": [
    "**Step 7: Write a function that checks if the board is full and returns a boolean value. True if full, False otherwise.**"
   ]
  },
  {
   "cell_type": "code",
   "execution_count": 42,
   "metadata": {
    "collapsed": true
   },
   "outputs": [],
   "source": [
    "def full_board_check(board):\n",
    "    for i in range(1,10):\n",
    "        if board[i] == ' ':\n",
    "            return False\n",
    "    return True"
   ]
  },
  {
   "cell_type": "markdown",
   "metadata": {},
   "source": [
    "**Step 8: Write a function that asks for a player's next position (as a number 1-9) and then uses the function from step 6 to check if its a free position. If it is, then return the position for later use. **"
   ]
  },
  {
   "cell_type": "code",
   "execution_count": 43,
   "metadata": {
    "collapsed": false
   },
   "outputs": [],
   "source": [
    "def player_choice(board, turn):\n",
    "    pos = None\n",
    "    while True:\n",
    "        print(\"Next Move for \", turn, \"? Enter the position number\")\n",
    "        user_in = input()\n",
    "        if user_in.isdigit():\n",
    "            if 0 < int(user_in) < 10:\n",
    "                pos = int(user_in)\n",
    "                if board[pos] == ' ':\n",
    "                    return pos\n",
    "                else:\n",
    "                    print(\"Invalid Position\")\n",
    "        continue"
   ]
  },
  {
   "cell_type": "markdown",
   "metadata": {},
   "source": [
    "**Step 9: Write a function that asks the player if they want to play again and returns a boolean True if they do want to play again.**"
   ]
  },
  {
   "cell_type": "code",
   "execution_count": 44,
   "metadata": {
    "collapsed": false
   },
   "outputs": [],
   "source": [
    "def replay():\n",
    "    while True:\n",
    "        print(\"Once More? yes/no\")\n",
    "        user_in = input()\n",
    "        if user_in == 'yes':\n",
    "            return True\n",
    "        elif user_in == 'no':\n",
    "            return False\n",
    "        else:\n",
    "            continue"
   ]
  },
  {
   "cell_type": "code",
   "execution_count": 45,
   "metadata": {
    "collapsed": true
   },
   "outputs": [],
   "source": [
    "def reset_game():\n",
    "    print('Welcome to Tic Tac Toe!')\n",
    "    board = [' ']*10\n",
    "    board[0] = ' '\n",
    "    player1 = ' '\n",
    "    player2 = ' '\n",
    "    while True:\n",
    "        print(\"Player 1 ...pls choose ur symbol 'X or 'O'\")\n",
    "        user_in = input()\n",
    "        if user_in == 'X':\n",
    "            player1 = 'X'\n",
    "            player2 = 'O'\n",
    "            print(\"Player 1 is\", player1, \" \\nPlayer 2 is\", player2)\n",
    "            break\n",
    "        elif user_in == 'O':\n",
    "            player1 = 'O'\n",
    "            player2 = 'X'\n",
    "            print(\"Player 1 is\", player1, \"Player 2 is\", player2)\n",
    "            break\n",
    "        else:\n",
    "            continue\n",
    "\n",
    "    turn = player1\n",
    "    return board, player1, player2, turn"
   ]
  },
  {
   "cell_type": "markdown",
   "metadata": {
    "collapsed": true
   },
   "source": [
    "**Step 10: Here comes the hard part! Use while loops and the functions you've made to run the game!**"
   ]
  },
  {
   "cell_type": "code",
   "execution_count": 46,
   "metadata": {
    "collapsed": false
   },
   "outputs": [
    {
     "name": "stdout",
     "output_type": "stream",
     "text": [
      "_______________________________________\n",
      "| 1          | 2         | 3          |\n",
      "|      X     |      O    |      X     |\n",
      " ______________________________________\n",
      "| 4          | 5         | 6          |\n",
      "|      X     |      X    |      O     |\n",
      " ______________________________________\n",
      "| 7          | 8         | 9          |\n",
      "|      O     |      X    |      O     |\n",
      " ______________________________________\n",
      "Game Over\n",
      "Once More? yes/no\n",
      "no\n"
     ]
    }
   ],
   "source": [
    "board, player1, player2, turn = reset_game()\n",
    "game_on = True\n",
    "while game_on:\n",
    "    # Set the game up here\n",
    "    display_board(board)\n",
    "    pos = player_choice(board, turn)\n",
    "    board, done = place_marker(board, marker = turn, position=pos)\n",
    "    if done:\n",
    "        if turn == player2:\n",
    "            turn = player1\n",
    "        else:\n",
    "            turn = player2\n",
    "            \n",
    "    display_board(board)\n",
    "\n",
    "    if win_check(board,player1):\n",
    "        print(\"Player 1 wins\")\n",
    "        game_on = False\n",
    "    elif win_check(board,player2):\n",
    "        print(\"Player 2 wins\")\n",
    "        game_on = False\n",
    "\n",
    "    elif(full_board_check(board)):\n",
    "        print(\"Game Over\")\n",
    "        game_on = False\n",
    "    \n",
    "    if not game_on:\n",
    "        if replay():\n",
    "            board, player1, player2, turn = reset_game()\n",
    "            continue\n",
    "        else:\n",
    "            break\n"
   ]
  },
  {
   "cell_type": "markdown",
   "metadata": {
    "collapsed": true
   },
   "source": [
    "## Good Job!"
   ]
  },
  {
   "cell_type": "code",
   "execution_count": null,
   "metadata": {
    "collapsed": true
   },
   "outputs": [],
   "source": []
  }
 ],
 "metadata": {
  "kernelspec": {
   "display_name": "Python [default]",
   "language": "python",
   "name": "python3"
  },
  "language_info": {
   "codemirror_mode": {
    "name": "ipython",
    "version": 3
   },
   "file_extension": ".py",
   "mimetype": "text/x-python",
   "name": "python",
   "nbconvert_exporter": "python",
   "pygments_lexer": "ipython3",
   "version": "3.6.0"
  }
 },
 "nbformat": 4,
 "nbformat_minor": 0
}
